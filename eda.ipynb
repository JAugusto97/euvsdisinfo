{
 "cells": [
  {
   "cell_type": "code",
   "execution_count": null,
   "metadata": {},
   "outputs": [],
   "source": [
    "import pandas as pd\n",
    "import matplotlib.pyplot as plt\n",
    "import seaborn as sns"
   ]
  },
  {
   "cell_type": "code",
   "execution_count": null,
   "metadata": {},
   "outputs": [],
   "source": [
    "df = pd.read_csv(\"data/euvsdisinfo.csv\")\n",
    "df"
   ]
  },
  {
   "cell_type": "code",
   "execution_count": null,
   "metadata": {},
   "outputs": [],
   "source": [
    "df.groupby(\"debunk_id\")[[\"class\"]].value_counts().reset_index().groupby(\"class\")[\"count\"].min()"
   ]
  },
  {
   "cell_type": "code",
   "execution_count": null,
   "metadata": {},
   "outputs": [],
   "source": [
    "df.groupby(\"debunk_id\")[[\"class\"]].value_counts().reset_index().groupby(\"class\")[\"count\"].max()"
   ]
  },
  {
   "cell_type": "code",
   "execution_count": null,
   "metadata": {},
   "outputs": [],
   "source": [
    "df.groupby(\"debunk_id\")[[\"class\"]].value_counts().reset_index().groupby(\"class\")[\"count\"].mean()"
   ]
  },
  {
   "cell_type": "code",
   "execution_count": null,
   "metadata": {},
   "outputs": [],
   "source": [
    "df[\"article_text\"].str.len().mean()"
   ]
  },
  {
   "cell_type": "code",
   "execution_count": null,
   "metadata": {},
   "outputs": [],
   "source": [
    "df[\"summary\"].str.len().mean()"
   ]
  },
  {
   "cell_type": "code",
   "execution_count": null,
   "metadata": {},
   "outputs": [],
   "source": [
    "df[\"disproof\"].str.len().mean()"
   ]
  },
  {
   "cell_type": "code",
   "execution_count": null,
   "metadata": {},
   "outputs": [],
   "source": [
    "sns.countplot(x=\"article_language\", data=df, hue=\"class\")"
   ]
  },
  {
   "cell_type": "code",
   "execution_count": null,
   "metadata": {},
   "outputs": [],
   "source": [
    "# Top publishers divided by class\n",
    "top_publishers = df['article_publisher'].value_counts().head(50).index\n",
    "filtered_df = df[df['article_publisher'].isin(top_publishers)]\n",
    "class_counts = filtered_df.groupby(['article_publisher', 'class']).size().reset_index(name='counts')\n",
    "pivot_df = class_counts.pivot(index='article_publisher', columns='class', values='counts')\n",
    "pivot_df = pivot_df.reindex(pivot_df.sum(axis=1).sort_values(ascending=False).index)\n",
    "color_mapping = {\"support\": \"green\", \"misinformation\": \"red\"}\n",
    "pivot_df.loc[:, color_mapping.keys()].plot(kind='bar', stacked=True, color=[color_mapping[i] for i in color_mapping.keys()], figsize=(10, 5))\n",
    "plt.xticks(rotation=90)\n",
    "plt.show()"
   ]
  },
  {
   "cell_type": "code",
   "execution_count": null,
   "metadata": {},
   "outputs": [],
   "source": [
    "df_misinfo = df[df['class'] == 'misinformation']\n",
    "df_misinfo[\"keywords\"].dropna().apply(lambda x: x.split(\",\")).explode().str.strip().value_counts().head(50).plot(kind='bar', figsize=(10, 5))"
   ]
  },
  {
   "cell_type": "code",
   "execution_count": null,
   "metadata": {},
   "outputs": [],
   "source": [
    "top_topics = df_misinfo[\"keywords\"].dropna().apply(lambda x: x.split(\",\")).explode().str.strip().value_counts().head(15)\n",
    "top_publishers = df['article_publisher'].value_counts().head(15).index\n",
    "topics_publishers = {}\n",
    "\n",
    "for row in df_misinfo[[\"article_publisher\", \"keywords\"]].dropna().apply(lambda x: {x[\"article_publisher\"]: [k.strip() for k in x[\"keywords\"].split(\",\")]}, axis=1):\n",
    "    for publisher, topics in row.items():\n",
    "        for topic in topics:\n",
    "            if topic in top_topics:\n",
    "                if topic not in topics_publishers:\n",
    "                    topics_publishers[topic] = []\n",
    "                else:\n",
    "                    topics_publishers[topic].append(publisher)\n",
    "\n",
    "# count the number of occurences of each publisher for each topic\n",
    "topic_publisher_counts = {}\n",
    "for topic, publishers in topics_publishers.items():\n",
    "    topic_publisher_counts[topic] = {}\n",
    "    for publisher in publishers:\n",
    "        if publisher not in topic_publisher_counts[topic]:\n",
    "            topic_publisher_counts[topic][publisher] = 0\n",
    "        topic_publisher_counts[topic][publisher] += 1\n",
    "# transform the counts into percentages\n",
    "topic_publisher_percentages = {}\n",
    "for topic, publisher_counts in topic_publisher_counts.items():\n",
    "    total = sum(publisher_counts.values())\n",
    "    topic_publisher_percentages[topic] = {publisher: count / total for publisher, count in publisher_counts.items()}\n",
    "    \n",
    "# keep the top 5 publishers for each topic, and aggregate the rest into a new key called \"Others\"\n",
    "topic_publisher_percentages_top5 = {}\n",
    "for topic, publisher_percentages in topic_publisher_percentages.items():\n",
    "    topic_publisher_percentages_top5[topic] = {}\n",
    "    top5_publishers = sorted(publisher_percentages.items(), key=lambda x: x[1], reverse=True)[:5]\n",
    "    for publisher, percentage in top5_publishers:\n",
    "        topic_publisher_percentages_top5[topic][publisher] = percentage\n",
    "    topic_publisher_percentages_top5[topic][\"Others\"] = sum(publisher_percentages.values()) - sum([percentage for publisher, percentage in top5_publishers])\n",
    "# plot the results\n",
    "fig, axes = plt.subplots(nrows=5, ncols=3, figsize=(20, 20))\n",
    "for i, (topic, publisher_percentages) in enumerate(topic_publisher_percentages_top5.items()):\n",
    "    ax = axes[i // 3, i % 3]\n",
    "    ax.set_title(topic)\n",
    "    ax.pie(publisher_percentages.values(), labels=publisher_percentages.keys(), autopct='%1.1f%%')"
   ]
  }
 ],
 "metadata": {
  "kernelspec": {
   "display_name": "euvsdisinfo",
   "language": "python",
   "name": "python3"
  },
  "language_info": {
   "codemirror_mode": {
    "name": "ipython",
    "version": 3
   },
   "file_extension": ".py",
   "mimetype": "text/x-python",
   "name": "python",
   "nbconvert_exporter": "python",
   "pygments_lexer": "ipython3",
   "version": "3.11.5"
  }
 },
 "nbformat": 4,
 "nbformat_minor": 2
}
