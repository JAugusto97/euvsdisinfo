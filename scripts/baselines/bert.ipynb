{
 "cells": [
  {
   "cell_type": "code",
   "execution_count": 9,
   "metadata": {},
   "outputs": [],
   "source": [
    "import os\n",
    "os.environ[\"CUDA_VISIBLE_DEVICES\"] = \"0\""
   ]
  },
  {
   "cell_type": "code",
   "execution_count": 10,
   "metadata": {},
   "outputs": [],
   "source": [
    "PRETRAINED_NAME=\"bert-base-multilingual-cased\""
   ]
  },
  {
   "cell_type": "code",
   "execution_count": null,
   "metadata": {},
   "outputs": [],
   "source": []
  },
  {
   "cell_type": "code",
   "execution_count": 11,
   "metadata": {},
   "outputs": [],
   "source": [
    "import pandas as pd\n",
    "from datasets import Dataset, DatasetDict\n",
    "import evaluate\n",
    "from transformers import AutoModelForSequenceClassification, AutoTokenizer, Trainer, TrainingArguments\n",
    "from sklearn.model_selection import StratifiedKFold\n",
    "import numpy as np\n"
   ]
  },
  {
   "cell_type": "code",
   "execution_count": 12,
   "metadata": {},
   "outputs": [],
   "source": [
    "metric = evaluate.load(\"f1\")\n",
    "def compute_metrics(eval_pred):\n",
    "    logits, labels = eval_pred\n",
    "    predictions = np.argmax(logits, axis=-1)\n",
    "    return metric.compute(predictions=predictions, references=labels, average=\"macro\")"
   ]
  },
  {
   "cell_type": "code",
   "execution_count": 13,
   "metadata": {},
   "outputs": [],
   "source": [
    "tokenizer = AutoTokenizer.from_pretrained(PRETRAINED_NAME)\n",
    "def tokenize_function(examples):\n",
    "    return tokenizer(examples[\"text\"], padding=\"max_length\", truncation=True, max_length=512)"
   ]
  },
  {
   "cell_type": "code",
   "execution_count": 14,
   "metadata": {},
   "outputs": [
    {
     "name": "stderr",
     "output_type": "stream",
     "text": [
      "Map: 100%|██████████| 6776/6776 [00:03<00:00, 2220.69 examples/s]\n",
      "Map: 100%|██████████| 6776/6776 [00:02<00:00, 2499.47 examples/s]\n"
     ]
    }
   ],
   "source": [
    "df = pd.read_csv(\"../data/euvsdisinfo.csv\")\n",
    "df[\"text\"] = df[\"article_title\"] + \" \" + df[\"article_text\"]\n",
    "df[\"label\"] = df[\"class\"].apply(lambda x: 0 if x == \"support\" else 1)\n",
    "skf = StratifiedKFold(n_splits=2, shuffle=True, random_state=42)\n",
    "\n",
    "for fold, (train_index, test_index) in enumerate(skf.split(df, df[\"label\"])):\n",
    "    train_df = df.iloc[train_index]\n",
    "    test_df = df.iloc[test_index]\n",
    "    train_dataset = Dataset.from_pandas(train_df)\n",
    "    test_dataset = Dataset.from_pandas(test_df)\n",
    "    train_dataset = train_dataset.map(tokenize_function, batched=True)\n",
    "    test_dataset = test_dataset.map(tokenize_function, batched=True)\n",
    "    train_dataset.set_format(\"torch\", columns=[\"input_ids\", \"attention_mask\", \"label\", \"article_language\"])\n",
    "    break"
   ]
  },
  {
   "cell_type": "code",
   "execution_count": 15,
   "metadata": {},
   "outputs": [
    {
     "name": "stderr",
     "output_type": "stream",
     "text": [
      "Map: 100%|██████████| 6776/6776 [00:03<00:00, 2208.61 examples/s]\n",
      "Map: 100%|██████████| 6776/6776 [00:02<00:00, 2392.13 examples/s]\n"
     ]
    }
   ],
   "source": [
    "skf = StratifiedKFold(n_splits=2, shuffle=True, random_state=42)\n",
    "for fold, (train_index, test_index) in enumerate(skf.split(df, df[\"label\"])):\n",
    "    train_df = df.iloc[train_index]\n",
    "    test_df = df.iloc[test_index]\n",
    "    train_dataset = Dataset.from_pandas(train_df)\n",
    "    test_dataset = Dataset.from_pandas(test_df)\n",
    "    train_dataset = train_dataset.map(tokenize_function, batched=True)\n",
    "    test_dataset = test_dataset.map(tokenize_function, batched=True)\n",
    "    train_dataset.set_format(\"torch\", columns=[\"input_ids\", \"attention_mask\", \"label\", \"article_language\"])\n",
    "    break"
   ]
  },
  {
   "cell_type": "code",
   "execution_count": 16,
   "metadata": {},
   "outputs": [
    {
     "name": "stderr",
     "output_type": "stream",
     "text": [
      "Some weights of BertForSequenceClassification were not initialized from the model checkpoint at bert-base-multilingual-cased and are newly initialized: ['classifier.weight', 'classifier.bias']\n",
      "You should probably TRAIN this model on a down-stream task to be able to use it for predictions and inference.\n"
     ]
    },
    {
     "data": {
      "text/html": [
       "\n",
       "    <div>\n",
       "      \n",
       "      <progress value='424' max='424' style='width:300px; height:20px; vertical-align: middle;'></progress>\n",
       "      [424/424 06:32, Epoch 1/1]\n",
       "    </div>\n",
       "    <table border=\"1\" class=\"dataframe\">\n",
       "  <thead>\n",
       " <tr style=\"text-align: left;\">\n",
       "      <th>Step</th>\n",
       "      <th>Training Loss</th>\n",
       "      <th>Validation Loss</th>\n",
       "      <th>F1</th>\n",
       "    </tr>\n",
       "  </thead>\n",
       "  <tbody>\n",
       "    <tr>\n",
       "      <td>100</td>\n",
       "      <td>0.217100</td>\n",
       "      <td>0.168643</td>\n",
       "      <td>0.954115</td>\n",
       "    </tr>\n",
       "    <tr>\n",
       "      <td>200</td>\n",
       "      <td>0.201000</td>\n",
       "      <td>0.159326</td>\n",
       "      <td>0.954444</td>\n",
       "    </tr>\n",
       "    <tr>\n",
       "      <td>300</td>\n",
       "      <td>0.214800</td>\n",
       "      <td>0.150485</td>\n",
       "      <td>0.955402</td>\n",
       "    </tr>\n",
       "    <tr>\n",
       "      <td>400</td>\n",
       "      <td>0.161400</td>\n",
       "      <td>0.155827</td>\n",
       "      <td>0.954527</td>\n",
       "    </tr>\n",
       "  </tbody>\n",
       "</table><p>"
      ],
      "text/plain": [
       "<IPython.core.display.HTML object>"
      ]
     },
     "metadata": {},
     "output_type": "display_data"
    },
    {
     "data": {
      "text/plain": [
       "TrainOutput(global_step=424, training_loss=0.20458659940873677, metrics={'train_runtime': 392.6092, 'train_samples_per_second': 17.259, 'train_steps_per_second': 1.08, 'total_flos': 1782840511119360.0, 'train_loss': 0.20458659940873677, 'epoch': 1.0})"
      ]
     },
     "execution_count": 16,
     "metadata": {},
     "output_type": "execute_result"
    }
   ],
   "source": [
    "# define the model\n",
    "model = AutoModelForSequenceClassification.from_pretrained('bert-base-multilingual-cased', num_labels=2)\n",
    "\n",
    "# define the training arguments\n",
    "training_args = TrainingArguments(\n",
    "    output_dir='./results',\n",
    "    evaluation_strategy='steps',\n",
    "    eval_steps=100,\n",
    "    learning_rate=2e-5,\n",
    "    per_device_train_batch_size=16,\n",
    "    per_device_eval_batch_size=64,\n",
    "    num_train_epochs=1,\n",
    "    weight_decay=0.01,\n",
    "    push_to_hub=False,\n",
    "    logging_dir='./logs',\n",
    "    logging_steps=10,\n",
    "    load_best_model_at_end=True,\n",
    "    metric_for_best_model='f1',\n",
    "    greater_is_better=True,\n",
    "    save_total_limit=1,\n",
    "    save_steps=100,\n",
    "    save_strategy=\"steps\"\n",
    ")\n",
    "\n",
    "# define the trainer\n",
    "trainer = Trainer(\n",
    "    model=model,\n",
    "    args=training_args,\n",
    "    train_dataset=train_dataset,\n",
    "    eval_dataset=test_dataset,\n",
    "    compute_metrics=compute_metrics\n",
    ")\n",
    "\n",
    "# train the model\n",
    "trainer.train()\n"
   ]
  },
  {
   "cell_type": "code",
   "execution_count": 17,
   "metadata": {},
   "outputs": [
    {
     "data": {
      "text/html": [],
      "text/plain": [
       "<IPython.core.display.HTML object>"
      ]
     },
     "metadata": {},
     "output_type": "display_data"
    },
    {
     "name": "stdout",
     "output_type": "stream",
     "text": [
      "{'f1': 0.9554024815198463}\n"
     ]
    }
   ],
   "source": [
    "# make inference on the test set\n",
    "predictions = trainer.predict(test_dataset)\n",
    "preds = predictions.predictions.argmax(-1)\n",
    "labels = predictions.label_ids\n",
    "langs = test_dataset[\"article_language\"]\n",
    "print(metric.compute(predictions=preds, references=labels, average=\"macro\"))"
   ]
  },
  {
   "cell_type": "code",
   "execution_count": 18,
   "metadata": {},
   "outputs": [
    {
     "name": "stdout",
     "output_type": "stream",
     "text": [
      "ru 2513 0.48829159030747304 0.9542379625945085 0.9542379625945085 1.0 1.0\n",
      "cs 36 1.0 1.0 1.0 1.0 1.0\n",
      "es 209 0.49759615384615385 0.9904306220095693 0.9904306220095693 1.0 1.0\n",
      "az 114 1.0 1.0 1.0 1.0 1.0\n",
      "de 108 0.47572815533980584 0.9158878504672897 0.9158878504672897 0.98989898989899 0.98989898989899\n",
      "lt 5 1.0 0.0 0.0 0.0 0.0\n",
      "pl 17 1.0 1.0 1.0 1.0 1.0\n",
      "en 2355 0.811143399522877 0.9761904761904762 0.9761904761904762 0.4900398406374502 0.4900398406374502\n",
      "uk 59 1.0 1.0 1.0 1.0 1.0\n",
      "ar 1062 0.49976448422044273 1.0 1.0 0.9990583804143126 0.9990583804143126\n",
      "mk 26 1.0 1.0 1.0 1.0 1.0\n",
      "fr 154 0.4814814814814815 0.9285714285714286 0.9285714285714286 1.0 1.0\n",
      "hu 66 1.0 1.0 1.0 1.0 1.0\n",
      "hr 17 0.48484848484848486 0.9411764705882353 0.9411764705882353 1.0 1.0\n",
      "it 35 1.0 1.0 1.0 1.0 1.0\n",
      "Weighted F1 0.6292556322140321\n"
     ]
    },
    {
     "name": "stderr",
     "output_type": "stream",
     "text": [
      "/home/jaugusto97/miniconda3/envs/euvsdisinfo/lib/python3.11/site-packages/sklearn/metrics/_classification.py:1471: UndefinedMetricWarning: Precision is ill-defined and being set to 0.0 due to no predicted samples. Use `zero_division` parameter to control this behavior.\n",
      "  _warn_prf(average, modifier, msg_start, len(result))\n",
      "/home/jaugusto97/miniconda3/envs/euvsdisinfo/lib/python3.11/site-packages/sklearn/metrics/_classification.py:1471: UndefinedMetricWarning: Precision is ill-defined and being set to 0.0 due to no predicted samples. Use `zero_division` parameter to control this behavior.\n",
      "  _warn_prf(average, modifier, msg_start, len(result))\n",
      "/home/jaugusto97/miniconda3/envs/euvsdisinfo/lib/python3.11/site-packages/sklearn/metrics/_classification.py:1471: UndefinedMetricWarning: Recall is ill-defined and being set to 0.0 due to no true samples. Use `zero_division` parameter to control this behavior.\n",
      "  _warn_prf(average, modifier, msg_start, len(result))\n",
      "/home/jaugusto97/miniconda3/envs/euvsdisinfo/lib/python3.11/site-packages/sklearn/metrics/_classification.py:1471: UndefinedMetricWarning: Recall is ill-defined and being set to 0.0 due to no true samples. Use `zero_division` parameter to control this behavior.\n",
      "  _warn_prf(average, modifier, msg_start, len(result))\n"
     ]
    }
   ],
   "source": [
    "preds_df = pd.DataFrame({\"preds\": preds, \"labels\": labels, \"langs\": langs})\n",
    "f1 = evaluate.load(\"f1\")\n",
    "precision_negative = evaluate.load(\"precision\", pos_label=0)\n",
    "precision_positive = evaluate.load(\"precision\", pos_label=1)\n",
    "recall_negative = evaluate.load(\"recall\", pos_label=0)\n",
    "recall_positive = evaluate.load(\"recall\", pos_label=1)\n",
    "\n",
    "weighted_f1 = 0\n",
    "for language in set(langs):\n",
    "    df = preds_df[preds_df[\"langs\"] == language]\n",
    "    l = df[\"labels\"].tolist()\n",
    "    p = df[\"preds\"].tolist()\n",
    "    f1_score = f1.compute(predictions=p, references=l, average=\"macro\")[\"f1\"]\n",
    "    p_neg = precision_negative.compute(predictions=p, references=l, average=\"binary\")[\"precision\"]\n",
    "    p_pos = precision_positive.compute(predictions=p, references=l, average=\"binary\")[\"precision\"]\n",
    "    r_neg = recall_negative.compute(predictions=p, references=l, average=\"binary\")[\"recall\"]\n",
    "    r_pos = recall_positive.compute(predictions=p, references=l, average=\"binary\")[\"recall\"]\n",
    "\n",
    "    weight = len(df) / len(preds_df)\n",
    "    weighted_f1 += f1_score * weight\n",
    "\n",
    "    print(language, len(df), f1_score, p_neg, p_pos, r_neg, r_pos)\n",
    "\n",
    "# avg_f1 /= len(set(langs))\n",
    "print(\"Weighted F1\", weighted_f1)"
   ]
  }
 ],
 "metadata": {
  "kernelspec": {
   "display_name": "euvsdisinfo",
   "language": "python",
   "name": "python3"
  },
  "language_info": {
   "codemirror_mode": {
    "name": "ipython",
    "version": 3
   },
   "file_extension": ".py",
   "mimetype": "text/x-python",
   "name": "python",
   "nbconvert_exporter": "python",
   "pygments_lexer": "ipython3",
   "version": "3.11.5"
  }
 },
 "nbformat": 4,
 "nbformat_minor": 2
}
